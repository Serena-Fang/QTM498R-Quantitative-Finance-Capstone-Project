{
 "cells": [
  {
   "cell_type": "code",
   "execution_count": 1,
   "metadata": {},
   "outputs": [],
   "source": [
    "import numpy as np\n",
    "import pandas as pd\n",
    "import matplotlib.pyplot as plt\n",
    "\n",
    "import datetime as datetime\n",
    "import scipy.stats as st\n",
    "import seaborn as sns\n",
    "\n",
    "%matplotlib inline\n",
    "\n",
    "pd.set_option('display.max_rows', 1000)\n",
    "pd.set_option('display.max_columns', 100)\n",
    "\n",
    "plt.style.use('ggplot')"
   ]
  },
  {
   "cell_type": "code",
   "execution_count": 2,
   "metadata": {},
   "outputs": [
    {
     "name": "stdout",
     "output_type": "stream",
     "text": [
      "Number of significant windows: 254\n"
     ]
    }
   ],
   "source": [
    "#import the Sign window (only B / S)\n",
    "sign_windows = pd.read_excel('Ensemble_Window_Signals_12.31.20.xlsx', sheet_name='Gold Window Signals', index_col=0, parse_dates=True)\n",
    "print('Number of significant windows: ' + str(len(sign_windows.columns)))"
   ]
  },
  {
   "cell_type": "code",
   "execution_count": 3,
   "metadata": {},
   "outputs": [],
   "source": [
    "#Train sign window\n",
    "train_start_date = sign_windows.index.min()\n",
    "train_end_date = pd.Timestamp('12-31-2004')\n",
    "train_sign_windows = sign_windows[:train_end_date]\n",
    "\n",
    "#Test sign window\n",
    "test_start_date = pd.Timestamp('01-31-2005')\n",
    "test_end_date = pd.Timestamp('12-31-2020')\n",
    "test_sign_windows = sign_windows[test_start_date:test_end_date]\n",
    "\n",
    "#two_returns only with B / S signals\n",
    "two_returns = pd.read_excel('Ensemble_Window_Signals_12.31.20.xlsx', sheet_name = 'Gold Returns', index_col=[0], parse_dates=True)\n",
    "two_returns = two_returns.iloc[1:, :]\n",
    "\n",
    "#divide into three chunks, train, validation, and test\n",
    "train_two_returns = two_returns[:train_end_date]\n",
    "test_two_returns = two_returns[test_start_date:test_end_date]"
   ]
  },
  {
   "cell_type": "code",
   "execution_count": 4,
   "metadata": {},
   "outputs": [],
   "source": [
    "#Creating train_return_windows\n",
    "\n",
    "data_index = train_sign_windows.index\n",
    "data_columns = train_sign_windows.columns\n",
    "\n",
    "train_return_windows = pd.DataFrame(columns=train_sign_windows.columns, index=train_sign_windows.index)\n",
    "\n",
    "for index in range(train_sign_windows.shape[0]):\n",
    "    \n",
    "    b_return = train_two_returns.iloc[index, 0]\n",
    "    s_return = train_two_returns.iloc[index, 1]\n",
    "\n",
    "    for col in range(train_sign_windows.shape[1]):\n",
    "        if train_sign_windows.iloc[index, col] == 'B':\n",
    "            train_return_windows.iloc[index, col] = b_return\n",
    "        else:\n",
    "            train_return_windows.iloc[index, col] = s_return\n",
    "        "
   ]
  },
  {
   "cell_type": "code",
   "execution_count": 5,
   "metadata": {},
   "outputs": [],
   "source": [
    "#Creating test_return_windows\n",
    "data_index = test_sign_windows.index\n",
    "data_columns = test_sign_windows.columns\n",
    "\n",
    "test_return_windows = pd.DataFrame(columns=test_sign_windows.columns, index=test_sign_windows.index)\n",
    "\n",
    "\n",
    "for index in range(test_sign_windows.shape[0]):\n",
    "    \n",
    "    b_return = test_two_returns.iloc[index, 0]\n",
    "    s_return = test_two_returns.iloc[index, 1]\n",
    "\n",
    "    for col in range(test_sign_windows.shape[1]):\n",
    "        if test_sign_windows.iloc[index, col] == 'B':\n",
    "            test_return_windows.iloc[index, col] = b_return\n",
    "        else:\n",
    "            test_return_windows.iloc[index, col] = s_return\n",
    "        "
   ]
  },
  {
   "cell_type": "code",
   "execution_count": 6,
   "metadata": {},
   "outputs": [],
   "source": [
    "def ann_return(series, frequency=\"Monthly\"):\n",
    "    freq_dict = {\"Daily\": 252, \"Monthly\": 12, \"Quarterly\": 4, \"Yearly\": 1}\n",
    "    return np.prod(series + 1) ** (freq_dict[frequency] / len(series)) - 1\n",
    "\n",
    "def ann_stdev(series, frequency=\"Monthly\"):\n",
    "    freq_dict = {\"Monthly\": 12, \"Quarterly\": 4, \"Yearly\": 1}\n",
    "    return np.std(series, axis=0) * np.sqrt(freq_dict[frequency])\n",
    "\n",
    "def trade_count(series):\n",
    "    count = (series != series.shift()).cumsum()[-1]\n",
    "    return int(count)"
   ]
  },
  {
   "cell_type": "code",
   "execution_count": 7,
   "metadata": {},
   "outputs": [],
   "source": [
    "def threshold(frame, threshold, buffer):\n",
    "\n",
    "    \n",
    "    buy_strength = frame.apply(lambda row: row.value_counts(normalize=True), axis=1)['B']\n",
    "    buy_strength = buy_strength.fillna(0)\n",
    "    \n",
    "    buy_filter = buy_strength > threshold\n",
    "    sell_filter = buy_strength < (threshold - buffer)\n",
    "    \n",
    "    buy_strength[buy_filter] = 'B'\n",
    "    buy_strength[sell_filter] = 'S'\n",
    "    \n",
    "    buy_strength[buy_strength.apply(lambda x: isinstance(x, float))] = np.nan\n",
    "    buy_strength = buy_strength.fillna(method='ffill')\n",
    "    \n",
    "    return buy_strength\n",
    "\n",
    "def signal_transform(frame, buy_signal, buy_series, sell_series, shift=True):\n",
    "\n",
    "    if shift:\n",
    "        frame = frame.shift()\n",
    "        frame = frame.dropna()\n",
    "        \n",
    "    buy_series = buy_series.iloc[1:,]\n",
    "    sell_series = sell_series.iloc[1:,]\n",
    "#     reindex would cause NA\n",
    "#     buy_series = buy_series.reindex(frame.index)\n",
    "#     sell_series = sell_series.reindex(frame.index)\n",
    "    \n",
    "\n",
    "    new_frame = frame.apply(lambda x: np.where(x == buy_signal, buy_series, sell_series))\n",
    "    \n",
    "    return new_frame"
   ]
  },
  {
   "cell_type": "code",
   "execution_count": 8,
   "metadata": {},
   "outputs": [
    {
     "name": "stdout",
     "output_type": "stream",
     "text": [
      "B    0.143066\n",
      "dtype: object\n",
      "B    0.140276\n",
      "dtype: float64\n",
      "4\n"
     ]
    }
   ],
   "source": [
    "train_ens_signals = threshold(train_sign_windows, 0.75, 0.5)\n",
    "\n",
    "train_ens_thresh_returns = signal_transform(pd.DataFrame(train_ens_signals), buy_signal='B', buy_series=train_two_returns['Buy Index'], sell_series=train_two_returns['Sell Index'],)\n",
    "\n",
    "# Equal-weighted (Current Model) - Train\n",
    "print(ann_return(train_ens_thresh_returns))\n",
    "print(ann_stdev(train_ens_thresh_returns))\n",
    "print(trade_count(train_ens_signals))"
   ]
  },
  {
   "cell_type": "code",
   "execution_count": 9,
   "metadata": {},
   "outputs": [
    {
     "name": "stdout",
     "output_type": "stream",
     "text": [
      "B    0.160772\n",
      "dtype: object\n",
      "B    0.16299\n",
      "dtype: float64\n",
      "3\n"
     ]
    }
   ],
   "source": [
    "test_ens_signals = threshold(test_sign_windows, 0.75, 0.5)\n",
    "test_ens_signals.head()\n",
    "test_ens_thresh_returns = signal_transform(pd.DataFrame(test_ens_signals), buy_signal='B', buy_series=test_two_returns['Buy Index'], sell_series=test_two_returns['Sell Index'],)\n",
    "\n",
    "# Equal-weighted (Current Model) - Test\n",
    "print(ann_return(test_ens_thresh_returns))\n",
    "print(ann_stdev(test_ens_thresh_returns))\n",
    "print(trade_count(test_ens_signals))"
   ]
  },
  {
   "cell_type": "code",
   "execution_count": 10,
   "metadata": {},
   "outputs": [
    {
     "data": {
      "text/plain": [
       "<matplotlib.axes._subplots.AxesSubplot at 0x7fafb1f9c790>"
      ]
     },
     "execution_count": 10,
     "metadata": {},
     "output_type": "execute_result"
    },
    {
     "data": {
      "image/png": "[encoded data removed]",
      "text/plain": [
       "<Figure size 1080x576 with 1 Axes>"
      ]
     },
     "metadata": {},
     "output_type": "display_data"
    }
   ],
   "source": [
    "win_frame = pd.DataFrame({'Ann. Return': train_return_windows.apply(ann_return),\n",
    "                          'Ann. Vol': train_return_windows.apply(ann_stdev),\n",
    "                          'Trade Count': train_sign_windows.apply(trade_count)})\n",
    "win_frame.round(4)\n",
    "\n",
    "fig, ax = plt.subplots(figsize=(15,8))\n",
    "\n",
    "sns.distplot(win_frame['Ann. Return'], ax=ax)"
   ]
  },
  {
   "cell_type": "code",
   "execution_count": 11,
   "metadata": {},
   "outputs": [],
   "source": [
    "sharpe_ratio = np.array(win_frame['Ann. Return']/win_frame['Ann. Vol'])\n",
    "\n",
    "from sklearn.preprocessing import StandardScaler\n",
    "\n",
    "#sharpe_ratio = np.array(win_frame['Ann. Return'])\n",
    "\n",
    "scaler = StandardScaler()\n",
    "sharpe_ratio = sharpe_ratio.reshape(-1, 1)\n",
    "scaler.fit(sharpe_ratio)\n",
    "sharpe_trans = scaler.transform(sharpe_ratio)"
   ]
  },
  {
   "cell_type": "code",
   "execution_count": 12,
   "metadata": {},
   "outputs": [],
   "source": [
    "num_1 = [0.75, 0.9, 0.7, 0.8, 0.8, 0.9, 0.9, 0.7]\n",
    "num_2 = [0.50, 0.6, 0.4, 0.6, 0.5, 0.7, 0.5, 0.5]\n",
    "\n",
    "num_sum = len(num_1)\n"
   ]
  },
  {
   "cell_type": "code",
   "execution_count": 13,
   "metadata": {},
   "outputs": [],
   "source": [
    "#A new threshold function to get the signals\n",
    "def threshold(frame, threshold, buffer):\n",
    "\n",
    "    \n",
    "#     buy_strength = frame.apply(lambda row: row.value_counts(normalize=True), axis=1)['B']\n",
    "#     buy_strength = buy_strength.fillna(0)\n",
    "\n",
    "    buy_strength = frame\n",
    "    \n",
    "    buy_filter = buy_strength > threshold\n",
    "    sell_filter = buy_strength < (threshold - buffer)\n",
    "    \n",
    "    buy_strength[buy_filter] = 'B'\n",
    "    buy_strength[sell_filter] = 'S'\n",
    "    \n",
    "    buy_strength[buy_strength.apply(lambda x: isinstance(x, float))] = np.nan\n",
    "    buy_strength = buy_strength.fillna(method='ffill')\n",
    "    \n",
    "    return buy_strength"
   ]
  },
  {
   "cell_type": "code",
   "execution_count": 15,
   "metadata": {},
   "outputs": [],
   "source": [
    "for the_thre_num in range(num_sum):\n",
    "\n",
    "    eafe_return = []\n",
    "    eafe_vol = []\n",
    "    trade_c = []\n",
    "    \n",
    "    #change the sharpe ratio for different models\n",
    "    sharpe_ratio = np.array(win_frame['Ann. Return'])\n",
    "\n",
    "    scaler = StandardScaler()\n",
    "    sharpe_ratio = sharpe_ratio.reshape(-1, 1)\n",
    "    scaler.fit(sharpe_ratio)\n",
    "    sharpe_trans = scaler.transform(sharpe_ratio)\n",
    "    \n",
    "    for num in range(1, 21):\n",
    "        sharpe_exp = np.exp(sharpe_trans * num)\n",
    "\n",
    "        overall = np.sum(sharpe_exp)\n",
    "        weights = [value / overall for value in sharpe_exp]\n",
    "        weights = np.array(weights)\n",
    "\n",
    "        train_sign_windows_binary = np.where(train_sign_windows == 'B', 1, 0)\n",
    "        train_weighted_buy = train_sign_windows_binary @ weights\n",
    "\n",
    "\n",
    "    \n",
    "        train_index = train_sign_windows.index\n",
    "        train_weighted_buy = pd.DataFrame(train_weighted_buy, index = train_index )\n",
    "        train_weighted_buy = train_weighted_buy.iloc[:,0]\n",
    "    \n",
    "        train_ens_signals = threshold(train_weighted_buy, num_1[the_thre_num], num_2[the_thre_num])\n",
    "    \n",
    "        train_ens_thresh_returns = signal_transform(pd.DataFrame(train_ens_signals), buy_signal='B', buy_series=train_two_returns['Buy Index'], sell_series=train_two_returns['Sell Index'],)\n",
    "    \n",
    "        trade_c.append(int(trade_count(train_ens_signals)))\n",
    "\n",
    "        eafe_return.append(float(ann_return(train_ens_thresh_returns)))\n",
    "    \n",
    "        eafe_vol.append(float(ann_stdev(train_ens_thresh_returns)))\n",
    "        \n",
    "    d = {'eafe_return': eafe_return, 'eafe_vol':eafe_vol , 'trade_count': trade_c}\n",
    "    kk = pd.DataFrame(data = d, index = range(1,21) )\n",
    "    \n",
    "    #change the title name for different models\n",
    "    title_name = 'Gold_Train_' + str(int(num_1[the_thre_num] * 100)) + '_' + str(int(num_1[the_thre_num] * 100 - num_2[the_thre_num] * 100 )) + '_onlyreturn.csv'\n",
    "\n",
    "    kk.to_csv(title_name)"
   ]
  },
  {
   "cell_type": "code",
   "execution_count": 22,
   "metadata": {},
   "outputs": [],
   "source": []
  },
  {
   "cell_type": "code",
   "execution_count": null,
   "metadata": {},
   "outputs": [],
   "source": []
  }
 ],
 "metadata": {
  "kernelspec": {
   "display_name": "Python 3",
   "language": "python",
   "name": "python3"
  },
  "language_info": {
   "codemirror_mode": {
    "name": "ipython",
    "version": 3
   },
   "file_extension": ".py",
   "mimetype": "text/x-python",
   "name": "python",
   "nbconvert_exporter": "python",
   "pygments_lexer": "ipython3",
   "version": "3.7.6"
  }
 },
 "nbformat": 4,
 "nbformat_minor": 2
}
